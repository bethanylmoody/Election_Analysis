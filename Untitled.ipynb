{
 "cells": [
  {
   "cell_type": "code",
   "execution_count": 1,
   "id": "7b3f9719",
   "metadata": {},
   "outputs": [
    {
     "name": "stdout",
     "output_type": "stream",
     "text": [
      "What is the temperature outside?65\n"
     ]
    }
   ],
   "source": [
    "temperature = int(input(\"What is the temperature outside?\"))"
   ]
  },
  {
   "cell_type": "code",
   "execution_count": 2,
   "id": "c5b4c755",
   "metadata": {},
   "outputs": [
    {
     "name": "stdout",
     "output_type": "stream",
     "text": [
      "Open the windows.\n"
     ]
    }
   ],
   "source": [
    "if temperature > 80: \n",
    "    print(\"Turn on AC.\")\n",
    "else:\n",
    "    print(\"Open the windows.\")"
   ]
  },
  {
   "cell_type": "code",
   "execution_count": 3,
   "id": "e1086627",
   "metadata": {},
   "outputs": [
    {
     "name": "stdout",
     "output_type": "stream",
     "text": [
      "What is the temperature outside?85\n"
     ]
    }
   ],
   "source": [
    "temperature = int(input(\"What is the temperature outside?\"))"
   ]
  },
  {
   "cell_type": "code",
   "execution_count": 4,
   "id": "5546bf0d",
   "metadata": {},
   "outputs": [
    {
     "name": "stdout",
     "output_type": "stream",
     "text": [
      "Open the windows.\n"
     ]
    }
   ],
   "source": [
    "if temperature < 80:\n",
    "    print(\"Turn on AC.\")\n",
    "else:\n",
    "    print(\"Open the windows.\")"
   ]
  },
  {
   "cell_type": "code",
   "execution_count": 5,
   "id": "92c7f03c",
   "metadata": {},
   "outputs": [
    {
     "name": "stdout",
     "output_type": "stream",
     "text": [
      "Turn on AC.\n"
     ]
    }
   ],
   "source": [
    "if temperature > 80:\n",
    "    print(\"Turn on AC.\")\n",
    "else:\n",
    "    print(\"Open the windows.\")"
   ]
  },
  {
   "cell_type": "code",
   "execution_count": 6,
   "id": "fddd3967",
   "metadata": {},
   "outputs": [],
   "source": [
    "#grade = int(input(\"What is your grade?\"))"
   ]
  },
  {
   "cell_type": "code",
   "execution_count": 7,
   "id": "8a87612b",
   "metadata": {},
   "outputs": [
    {
     "name": "stdout",
     "output_type": "stream",
     "text": [
      "What is your test score?75\n"
     ]
    }
   ],
   "source": [
    "#What is the score?\n",
    "score = int(input(\"What is your test score?\"))"
   ]
  },
  {
   "cell_type": "code",
   "execution_count": 8,
   "id": "00e8e4c0",
   "metadata": {},
   "outputs": [
    {
     "ename": "SyntaxError",
     "evalue": "invalid syntax (3842828024.py, line 4)",
     "output_type": "error",
     "traceback": [
      "\u001b[1;36m  Input \u001b[1;32mIn [8]\u001b[1;36m\u001b[0m\n\u001b[1;33m    if your score >= 80:\u001b[0m\n\u001b[1;37m            ^\u001b[0m\n\u001b[1;31mSyntaxError\u001b[0m\u001b[1;31m:\u001b[0m invalid syntax\n"
     ]
    }
   ],
   "source": [
    "if score >= 90:\n",
    "    print('Your grade is an A.')\n",
    "else:\n",
    "    if your score >= 80:\n",
    "        print('Your grade is a B.')\n",
    "    else:\n",
    "        if your score >= 70:\n",
    "            print ('Your grade is a C.')\n",
    "        else: \n",
    "            if score >= 60:\n",
    "                print('Your grade is a D.')\n",
    "            else: \n",
    "                if score >= 50:\n",
    "                    print('Your grade is a F.')"
   ]
  },
  {
   "cell_type": "code",
   "execution_count": 1,
   "id": "0a4d9dcf",
   "metadata": {},
   "outputs": [
    {
     "ename": "NameError",
     "evalue": "name 'election_results' is not defined",
     "output_type": "error",
     "traceback": [
      "\u001b[1;31m---------------------------------------------------------------------------\u001b[0m",
      "\u001b[1;31mNameError\u001b[0m                                 Traceback (most recent call last)",
      "Input \u001b[1;32mIn [1]\u001b[0m, in \u001b[0;36m<cell line: 1>\u001b[1;34m()\u001b[0m\n\u001b[1;32m----> 1\u001b[0m \u001b[38;5;28;01mwith\u001b[39;00m \u001b[38;5;28mopen\u001b[39m(\u001b[43melection_results\u001b[49m\u001b[38;5;241m.\u001b[39mcsv) \u001b[38;5;28;01mas\u001b[39;00m election_data:\n\u001b[0;32m      2\u001b[0m     \u001b[38;5;28mprint\u001b[39m(election_data)\n",
      "\u001b[1;31mNameError\u001b[0m: name 'election_results' is not defined"
     ]
    }
   ],
   "source": [
    "with open(election_results.csv) as election_data:\n",
    "    print(election_data)"
   ]
  },
  {
   "cell_type": "code",
   "execution_count": null,
   "id": "07f67cd8",
   "metadata": {},
   "outputs": [],
   "source": []
  }
 ],
 "metadata": {
  "kernelspec": {
   "display_name": "Python 3 (ipykernel)",
   "language": "python",
   "name": "python3"
  },
  "language_info": {
   "codemirror_mode": {
    "name": "ipython",
    "version": 3
   },
   "file_extension": ".py",
   "mimetype": "text/x-python",
   "name": "python",
   "nbconvert_exporter": "python",
   "pygments_lexer": "ipython3",
   "version": "3.9.7"
  }
 },
 "nbformat": 4,
 "nbformat_minor": 5
}
